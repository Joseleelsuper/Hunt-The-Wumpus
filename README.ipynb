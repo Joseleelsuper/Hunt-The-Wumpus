{
 "cells": [
  {
   "cell_type": "markdown",
   "metadata": {},
   "source": [
    "# Hunt the Wumpus - Adaptación\n",
    "\n",
    "**Autor**: [José Gallardo Caballero](mailto:jgc1031@alu.ubu.es)\n",
    "\n",
    "**Profesor a cargo de la práctica**: [Pedro Latorre Carmona](plcarmona@ubu.es)\n",
    "\n",
    "<table>\n",
    "    <tr>\n",
    "        <td align=\"center\"><a href=\"https://github.com/Joseleelsuper\"><img src=\"https://github.com/Joseleelsuper.png\" width=\"100px;\" alt=\"\"/><br /><sub><b>José Gallardo</b></sub></a></td>\n",
    "        <td align=\"center\"><a href=\"https://github.com/platorrecarmona\"><img src=\"https://github.com/platorrecarmona.png\" width=\"100px;\" alt=\"\"/><br /><sub><b>Pedro Latorre</b></sub></a></td>\n",
    "    </tr>\n",
    "</table>\n",
    "\n",
    "<div align=\"center\">\n",
    "    <a href=\"https://www.linkedin.com/in/jose-gallardo-caballero/\"><img src=\"https://img.shields.io/static/v1?message=LinkedIn&logo=linkedin&label=&color=0077B5&logoColor=white&labelColor=&style=for-the-badge\" height=\"35\" alt=\"linkedin logo\"></a>\n",
    "</div>\n",
    "\n",
    "<br clear=\"both\">\n",
    "<img src=\"https://raw.githubusercontent.com/Joseleelsuper/Joseleelsuper/output/snake.svg\" alt=\"Snake animation\" />\n"
   ]
  },
  {
   "cell_type": "markdown",
   "metadata": {},
   "source": [
    "## Proyecto y Propósito\n",
    "\n",
    "Este proyecto es una adaptación del clásico juego \"Hunt the Wumpus\". El objetivo era crear un algoritmo MinMax que jugase por el usuario, pero también tiene una versión de modo texto y gráfico que el usuario puede jugar, y además el modo A\\* para encontrar la mejor ruta al Wumpus con un algoritmo distinto.\n"
   ]
  },
  {
   "cell_type": "markdown",
   "metadata": {},
   "source": [
    "## Instalación de Requisitos\n",
    "\n",
    "Para instalar los requisitos necesarios para ejecutar el juego, ejecute el siguiente comando:"
   ]
  },
  {
   "cell_type": "code",
   "execution_count": null,
   "metadata": {},
   "outputs": [],
   "source": [
    "%pip install -r requirements.txt"
   ]
  },
  {
   "cell_type": "markdown",
   "metadata": {},
   "source": [
    "## Ejecución del Juego\n",
    "\n",
    "Para ejecutar el juego, utilice el siguiente comando:"
   ]
  },
  {
   "cell_type": "markdown",
   "metadata": {},
   "source": [
    "```bash\n",
    "cd src\n",
    "python main.py\n",
    "```"
   ]
  },
  {
   "cell_type": "markdown",
   "metadata": {},
   "source": [
    "Si quiere hacerlo más profesional, puede elegir entre diferentes modos de juego:\n",
    "\n",
    "- `text`: Modo de texto\n",
    "- `pygame`: Modo gráfico con Pygame\n",
    "- `astar`: Modo con inteligencia artificial utilizando el algoritmo A\\*\n",
    "- `minmax`: Modo con inteligencia artificial utilizando el algoritmo MinMax\n",
    "\n",
    "Ejemplo de ejecución en modo A\\* con un tablero personalizado:"
   ]
  },
  {
   "cell_type": "markdown",
   "metadata": {},
   "source": [
    "```bash\n",
    "cd src\n",
    "python main.py -newtablero 1 -tablero tableros/tablero_6x6.txt -gamemode astar\n",
    "```"
   ]
  },
  {
   "cell_type": "markdown",
   "metadata": {},
   "source": [
    "Ejemplo de ejecución en modo usuario con un tablero aleatorio de tamaño 6x6:"
   ]
  },
  {
   "cell_type": "markdown",
   "metadata": {},
   "source": [
    "```bash\n",
    "cd src\n",
    "python main.py -newtablero 0 -board 6 -gamemode pygame\n",
    "```"
   ]
  },
  {
   "cell_type": "markdown",
   "metadata": {},
   "source": [
    "## Estructura del Código\n",
    "\n",
    "El proyecto está organizado de la siguiente manera:\n",
    "\n",
    "- `src/`: Contiene el código fuente del juego.\n",
    "  - `game/`: Contiene la lógica del juego.\n",
    "    - `board.py`: Implementa el tablero del juego.\n",
    "    - `utils.py`: Contiene funciones utilitarias.\n",
    "    - `ai/`: Contiene los algoritmos de inteligencia artificial.\n",
    "      - `astar.py`: Implementa el algoritmo A\\*.\n",
    "      - `minmax.py`: Implementa el algoritmo MinMax.\n",
    "  - `ui/`: Contiene las interfaces de usuario.\n",
    "    - `text_mode.py`: Implementa la interfaz de usuario en modo texto.\n",
    "    - `pygame_mode.py`: Implementa la interfaz de usuario en modo gráfico con Pygame.\n",
    "  - `main.py`: Archivo principal para ejecutar el juego.\n",
    "- `requirements.txt`: Lista de dependencias necesarias para ejecutar el juego.\n",
    "- `tableros/`: Contiene tableros personalizados para el juego.\n"
   ]
  },
  {
   "cell_type": "markdown",
   "metadata": {},
   "source": [
    "## Explicación del Código Paso a Paso\n",
    "\n",
    "A continuación, se presenta una explicación paso a paso del código con fragmentos ejecutables para que puedas probar y entender cómo funciona el juego.\n",
    "\n",
    "### Inicialización del Tablero\n",
    "\n",
    "Primero, inicializamos el tablero del juego. El tablero es una cuadrícula de celdas, cada una de las cuales puede contener diferentes elementos como el agente, el Wumpus, el oro y los pozos."
   ]
  },
  {
   "cell_type": "code",
   "execution_count": null,
   "metadata": {},
   "outputs": [],
   "source": [
    "from src.game.board import Board\n",
    "\n",
    "# Inicializamos un tablero de tamaño 6x6\n",
    "board = Board(size=6)\n",
    "\n",
    "# Mostramos el tablero inicial\n",
    "for row in board.get_board():\n",
    "    print([''.join(sorted(cell))[:3].ljust(3) if cell else '   ' for cell in row])"
   ]
  },
  {
   "cell_type": "markdown",
   "metadata": {},
   "source": [
    "### Movimiento del Agente\n",
    "\n",
    "El agente puede moverse en cuatro direcciones: arriba, abajo, izquierda y derecha. Utilizamos el método `move_agent` para mover al agente en la dirección deseada."
   ]
  },
  {
   "cell_type": "code",
   "execution_count": null,
   "metadata": {},
   "outputs": [],
   "source": [
    "# Movemos al agente hacia la derecha\n",
    "board.move_agent('right')\n",
    "\n",
    "# Mostramos el tablero después del movimiento\n",
    "for row in board.get_board():\n",
    "    print([''.join(sorted(cell))[:3].ljust(3) if cell else '   ' for cell in row])"
   ]
  },
  {
   "cell_type": "markdown",
   "metadata": {},
   "source": [
    "### Disparo de Flechas\n",
    "\n",
    "El agente puede disparar una sola flecha en una dirección para intentar matar al Wumpus. Utilizamos el método `shoot_arrow` para disparar una flecha en la dirección deseada."
   ]
  },
  {
   "cell_type": "code",
   "execution_count": null,
   "metadata": {},
   "outputs": [],
   "source": [
    "# Disparamos una flecha hacia arriba\n",
    "hit, message = board.shoot_arrow('up')\n",
    "print(message+\"\\n\")\n",
    "hit, message = board.shoot_arrow('up')\n",
    "print(message+\"\\n\")\n",
    "\n",
    "# Mostramos el tablero después del disparo\n",
    "for row in board.get_board():\n",
    "    print([''.join(sorted(cell))[:3].ljust(3) if cell else '   ' for cell in row])"
   ]
  },
  {
   "cell_type": "markdown",
   "metadata": {},
   "source": [
    "### Verificación del Estado del Juego\n",
    "\n",
    "Podemos verificar si el juego ha terminado utilizando el método `check_game_over`. Este método devuelve un valor booleano que indica si el juego ha terminado y un mensaje que describe el resultado del juego."
   ]
  },
  {
   "cell_type": "code",
   "execution_count": null,
   "metadata": {},
   "outputs": [],
   "source": [
    "game_over, message = board.check_game_over()\n",
    "if game_over:\n",
    "    print(message)\n",
    "else:\n",
    "    print(\"El juego continúa.\")"
   ]
  },
  {
   "cell_type": "markdown",
   "metadata": {},
   "source": [
    "### Ejecución del Juego Completo\n",
    "\n",
    "Finalmente, podemos ejecutar el juego completo utilizando el método `run` de la clase `AStarPlayer` o `MinMaxPlayer`. Estos métodos ejecutan el juego utilizando los algoritmos inteligentes mencionados."
   ]
  },
  {
   "cell_type": "code",
   "execution_count": null,
   "metadata": {},
   "outputs": [],
   "source": [
    "from src.game.ai.astar import AStarPlayer\n",
    "\n",
    "# Reseteamos el tablero\n",
    "board.reset()\n",
    "\n",
    "# Inicializamos el agente con el algoritmo A*\n",
    "game = AStarPlayer(board)\n",
    "# game = TextMode(board)\n",
    "# game = PygameMode(board)\n",
    "# game = MinMaxPlayer(board)\n",
    "\n",
    "# Ejecutamos el juego\n",
    "game.run()"
   ]
  }
 ],
 "metadata": {
  "kernelspec": {
   "display_name": "Python 3 (ipykernel)",
   "language": "python",
   "name": "python3"
  },
  "language_info": {
   "codemirror_mode": {
    "name": "ipython",
    "version": 3
   },
   "file_extension": ".py",
   "mimetype": "text/x-python",
   "name": "python",
   "nbconvert_exporter": "python",
   "pygments_lexer": "ipython3",
   "version": "3.12.6"
  }
 },
 "nbformat": 4,
 "nbformat_minor": 4
}
